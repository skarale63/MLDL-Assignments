{
 "cells": [
  {
   "cell_type": "markdown",
   "id": "c2e70de4",
   "metadata": {},
   "source": [
    "#    1. Create the below pattern using nested for loop in Python.\n",
    "    *\n",
    "    * *\n",
    "    * * *\n",
    "    * * * *\n",
    "    * * * * *\n",
    "    * * * *\n",
    "    * * *\n",
    "    * *\n",
    "    *\n"
   ]
  },
  {
   "cell_type": "code",
   "execution_count": 1,
   "id": "0b8ad0b6",
   "metadata": {},
   "outputs": [
    {
     "name": "stdout",
     "output_type": "stream",
     "text": [
      "* \n",
      "* * \n",
      "* * * \n",
      "* * * * \n",
      "* * * * * \n",
      "* * * * \n",
      "* * * \n",
      "* * \n",
      "* \n",
      "\n"
     ]
    }
   ],
   "source": [
    "# solution\n",
    "for i in range(5):\n",
    "    for j in range (i+1):\n",
    "        print('*',end=(' '))\n",
    "    print()\n",
    "for k in list(range(5))[::-1]:\n",
    "    for h in range (k):\n",
    "        print('*',end=(' '))\n",
    "    print()"
   ]
  },
  {
   "cell_type": "markdown",
   "id": "77ba7927",
   "metadata": {},
   "source": [
    "# 2. Write a Python program to reverse a word after accepting the input from the user.\n",
    "\n",
    "#### Input word: ineuron\n",
    "\n",
    "#### Output: norueni"
   ]
  },
  {
   "cell_type": "code",
   "execution_count": 2,
   "id": "7c170236",
   "metadata": {},
   "outputs": [
    {
     "name": "stdout",
     "output_type": "stream",
     "text": [
      "ineuron\n",
      "norueni\n"
     ]
    }
   ],
   "source": [
    "# solution\n",
    "a=input()\n",
    "print(a[::-1])"
   ]
  }
 ],
 "metadata": {
  "kernelspec": {
   "display_name": "Python 3",
   "language": "python",
   "name": "python3"
  },
  "language_info": {
   "codemirror_mode": {
    "name": "ipython",
    "version": 3
   },
   "file_extension": ".py",
   "mimetype": "text/x-python",
   "name": "python",
   "nbconvert_exporter": "python",
   "pygments_lexer": "ipython3",
   "version": "3.8.8"
  }
 },
 "nbformat": 4,
 "nbformat_minor": 5
}
