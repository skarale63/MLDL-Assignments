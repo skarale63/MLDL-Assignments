{
 "cells": [
  {
   "cell_type": "markdown",
   "metadata": {},
   "source": [
    "# Assignment_3"
   ]
  },
  {
   "cell_type": "markdown",
   "metadata": {},
   "source": [
    "Problem_1.1 Write a Python Program to implement your own myreduce() function which works exactly\n",
    "like Python's built-in function reduce()"
   ]
  },
  {
   "cell_type": "code",
   "execution_count": 1,
   "metadata": {},
   "outputs": [
    {
     "name": "stdout",
     "output_type": "stream",
     "text": [
      "Input:\n",
      "Please insert the number :20\n",
      "Output:\n",
      "List of First n Natural numbers are: [1, 2, 3, 4, 5, 6, 7, 8, 9, 10, 11, 12, 13, 14, 15, 16, 17, 18, 19, 20]\n",
      "Sum of List elements are : 210\n"
     ]
    }
   ],
   "source": [
    "#Solution\n",
    "\n",
    "#Sum of First n Natural numbers , Ask user for Number.\n",
    "\n",
    "\n",
    "def myreduce(num):\n",
    "    ''' This functionm will return sum of n Natural numbers'''\n",
    "    num_list=list(range(1,number+1))\n",
    "    sum_of_elements=0\n",
    "    \n",
    "    for i in num_list:\n",
    "        sum_of_elements+=i\n",
    "        \n",
    "    return num_list,sum_of_elements\n",
    "\n",
    "#Input \n",
    "print(\"Input:\")\n",
    "number=int(input(\"Please insert the number :\"))\n",
    "\n",
    "#Function Execution\n",
    "\n",
    "output_value=myreduce(number)\n",
    "\n",
    "#Output\n",
    "print(\"Output:\")\n",
    "print(\"List of First n Natural numbers are:\",output_value[0])\n",
    "print(\"Sum of List elements are :\",output_value[1])  \n"
   ]
  },
  {
   "cell_type": "code",
   "execution_count": 2,
   "metadata": {},
   "outputs": [
    {
     "name": "stdout",
     "output_type": "stream",
     "text": [
      "Input:\n",
      "Please insert the number :30\n",
      "Output:\n",
      "List of First n Natural numbers are: [1, 2, 3, 4, 5, 6, 7, 8, 9, 10, 11, 12, 13, 14, 15, 16, 17, 18, 19, 20, 21, 22, 23, 24, 25, 26, 27, 28, 29, 30]\n",
      "Sum of List elements are : 465\n"
     ]
    }
   ],
   "source": [
    "# Same Solution can be approached by Built-in reduce() function\n",
    "\n",
    "print(\"Input:\")\n",
    "number=int(input(\"Please insert the number :\"))\n",
    "\n",
    "num_list= list(range(1,(number+1)))\n",
    "# Import reduce function \n",
    "from functools import reduce\n",
    "sum_of_elements = reduce((lambda x, y: x + y), num_list)\n",
    "\n",
    "#Output\n",
    "print(\"Output:\")\n",
    "print(\"List of First n Natural numbers are:\",num_list)\n",
    "print(\"Sum of List elements are :\",sum_of_elements)"
   ]
  },
  {
   "cell_type": "markdown",
   "metadata": {},
   "source": [
    "-------------------------------------------------------------------------------------------------------------------------------"
   ]
  },
  {
   "cell_type": "markdown",
   "metadata": {},
   "source": [
    "1.2 Write a Python program to implement your own myfilter() function which works exactly like\n",
    "Python's built-in function filter()"
   ]
  },
  {
   "cell_type": "code",
   "execution_count": 3,
   "metadata": {},
   "outputs": [
    {
     "name": "stdout",
     "output_type": "stream",
     "text": [
      "Input:\n",
      "Please insert the number: 10\n",
      "Output:\n",
      "List of numbers: [1, 2, 3, 4, 5, 6, 7, 8, 9, 10]\n",
      "List of Even numbers, which are multiples of 5 are: [10]\n",
      "List of Odd numbers, which are multiples of 5 are: [5]\n"
     ]
    }
   ],
   "source": [
    "# Solution\n",
    "\n",
    "# Filter the even and odd number from list which are multiples  of 5\n",
    "\n",
    "#Input \n",
    "\n",
    "print(\"Input:\")\n",
    "number=int(input(\"Please insert the number: \"))\n",
    "\n",
    "num_list=list(range(1,number+1))\n",
    "\n",
    "\n",
    "def myfilter(num_list):\n",
    "    '''This function will filter even and odd numbers from list which are multiples of 5 '''\n",
    "    num_even_list=[]\n",
    "    num_odd_list=[]\n",
    "    \n",
    "    for i in num_list:\n",
    "        if(i%5==0):\n",
    "            if(i%2==0):\n",
    "                num_even_list.append(i)\n",
    "            else:\n",
    "                num_odd_list.append(i)\n",
    "                \n",
    "    return num_even_list,num_odd_list\n",
    "\n",
    "\n",
    "#Function Execution\n",
    "output_value=myfilter(num_list)\n",
    "\n",
    "#Output\n",
    "\n",
    "print(\"Output:\")\n",
    "print(\"List of numbers:\",num_list)\n",
    "print(\"List of Even numbers, which are multiples of 5 are:\",output_value[0])\n",
    "print(\"List of Odd numbers, which are multiples of 5 are:\",output_value[1])\n"
   ]
  },
  {
   "cell_type": "code",
   "execution_count": 4,
   "metadata": {},
   "outputs": [
    {
     "name": "stdout",
     "output_type": "stream",
     "text": [
      "Input:\n",
      "Please insert the number: 25\n",
      "Output:\n",
      "List of numbers: [1, 2, 3, 4, 5, 6, 7, 8, 9, 10, 11, 12, 13, 14, 15, 16, 17, 18, 19, 20, 21, 22, 23, 24, 25]\n",
      "List of Even numbers, which are multiples of 5 are: [10, 20]\n",
      "List of Odd numbers, which are multiples of 5 are: [5, 15, 25]\n"
     ]
    }
   ],
   "source": [
    "#Same solution can be approached by built-in filter() function\n",
    "\n",
    "#Input \n",
    "\n",
    "print(\"Input:\")\n",
    "number=int(input(\"Please insert the number: \"))\n",
    "\n",
    "num_list=list(range(1,number+1))\n",
    "\n",
    "num_even_list=list(filter(lambda x: x%2==0,list(filter(lambda x: x%5==0 ,num_list))))\n",
    "num_odd_list= list(filter(lambda x: x%2!=0,list(filter(lambda x: x%5==0 ,num_list))))\n",
    "\n",
    "print(\"Output:\")\n",
    "\n",
    "print(\"List of numbers:\",num_list)\n",
    "print(\"List of Even numbers, which are multiples of 5 are:\",num_even_list)\n",
    "print(\"List of Odd numbers, which are multiples of 5 are:\",num_odd_list)"
   ]
  },
  {
   "cell_type": "markdown",
   "metadata": {},
   "source": [
    "-------------------------------------------------------------------------------------------------------------------------------"
   ]
  },
  {
   "cell_type": "markdown",
   "metadata": {},
   "source": [
    "Problem_2. Implement List comprehensions to produce the following lists.\n",
    "Write List comprehensions to produce the following Lists\n",
    "['A', 'C', 'A', 'D', 'G', 'I', ’L’, ‘ D’]\n",
    "['x', 'xx', 'xxx', 'xxxx', 'y', 'yy', 'yyy', 'yyyy', 'z', 'zz', 'zzz', 'zzzz']\n",
    "['x', 'y', 'z', 'xx', 'yy', 'zz', 'xx', 'yy', 'zz', 'xxxx', 'yyyy', 'zzzz']\n",
    "[[2], [3], [4], [3], [4], [5], [4], [5], [6]]\n",
    "[[2, 3, 4, 5], [3, 4, 5, 6], [4, 5, 6, 7], [5, 6, 7, 8]]\n",
    "[(1, 1), (2, 1), (3, 1), (1, 2), (2, 2), (3, 2), (1, 3), (2, 3), (3, 3)]"
   ]
  },
  {
   "cell_type": "code",
   "execution_count": 5,
   "metadata": {},
   "outputs": [
    {
     "name": "stdout",
     "output_type": "stream",
     "text": [
      "Output:\n",
      "['A', 'C', 'A', 'D', 'G', 'I', 'L', 'D']\n",
      "['x', 'xx', 'xxx', 'xxxx', 'y', 'yy', 'yyy', 'yyyy', 'z', 'zz', 'zzz', 'zzzz']\n",
      "['x', 'y', 'z', 'xx', 'yy', 'zz', 'xxx', 'yyy', 'zzz', 'xxxx', 'yyyy', 'zzzz']\n",
      "[[2], [3], [4], [3], [4], [5], [4], [5], [6]]\n",
      "[[2, 3, 4, 5], [3, 4, 5, 6], [4, 5, 6, 7], [5, 6, 7, 8]]\n",
      "[(1, 1), (2, 1), (3, 1), (1, 2), (2, 2), (3, 2), (1, 3), (2, 3), (3, 3)]\n"
     ]
    }
   ],
   "source": [
    "#Solution\n",
    "\n",
    "#Section 1\n",
    "word=\"AcadGild\"\n",
    "#list Comprehension\n",
    "output_list=[w.upper() for w in list(word)]\n",
    "print(\"Output:\")\n",
    "print(output_list)\n",
    "\n",
    "#Section 2\n",
    "word_1=list('xyz')\n",
    "word_2=[x*n for x in word_1 for n in range(1,5) ]\n",
    "print(word_2)\n",
    "\n",
    "#Section 3\n",
    "word_3=[x*n for n in range(1,5) for x in word_1 ]\n",
    "print(word_3)\n",
    "\n",
    "#Section 4\n",
    "number=[2,3,4]\n",
    "number_1=[[x+n] for x in number for n in range(0,3)]\n",
    "print(number_1)\n",
    "\n",
    "#Section 5\n",
    "number_2=[2,3,4,5]\n",
    "number_3=[[x+n for n in range(0,4)] for x in number_2 ]\n",
    "print(number_3)\n",
    "\n",
    "#Section 6\n",
    "number_4=[1,2,3]\n",
    "number_5= [(b,a) for a in number_4 for b in number_4]\n",
    "print(number_5)"
   ]
  },
  {
   "cell_type": "markdown",
   "metadata": {},
   "source": [
    "--------------------------------------------------------------------------------------------------------------------------------"
   ]
  },
  {
   "cell_type": "markdown",
   "metadata": {},
   "source": [
    "Problem_3. Implement a function longestWord() that takes a list of words and returns the longest one."
   ]
  },
  {
   "cell_type": "code",
   "execution_count": 6,
   "metadata": {},
   "outputs": [
    {
     "name": "stdout",
     "output_type": "stream",
     "text": [
      "Input:\n",
      "Please enter your word: Ajmer,Bhopal,Kolkata,West-Bengal\n",
      "Output:\n",
      "West-Bengal\n"
     ]
    }
   ],
   "source": [
    "#Solution\n",
    "\n",
    "def longestWord(word_list):\n",
    "    '''This function will return longest word from input word list'''\n",
    "    wordlen=[]\n",
    "    for w in word_list:\n",
    "        wordlen.append((len(w),w))\n",
    "    wordlen.sort()\n",
    "    return wordlen[-1][-1]\n",
    "\n",
    "#Input\n",
    "print(\"Input:\")\n",
    "word_list=input(\"Please enter your word: \")\n",
    "word_list=word_list.split(\",\")\n",
    "#function execution\n",
    "longest_word=longestWord(word_list)\n",
    "print(\"Output:\")\n",
    "print(longest_word)"
   ]
  }
 ],
 "metadata": {
  "kernelspec": {
   "display_name": "Python 3",
   "language": "python",
   "name": "python3"
  },
  "language_info": {
   "codemirror_mode": {
    "name": "ipython",
    "version": 3
   },
   "file_extension": ".py",
   "mimetype": "text/x-python",
   "name": "python",
   "nbconvert_exporter": "python",
   "pygments_lexer": "ipython3",
   "version": "3.8.8"
  }
 },
 "nbformat": 4,
 "nbformat_minor": 2
}
